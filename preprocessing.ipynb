{
 "cells": [
  {
   "cell_type": "code",
   "execution_count": 50,
   "metadata": {},
   "outputs": [],
   "source": [
    "import json\n",
    "import os\n",
    "import xmltodict\n",
    "import re\n",
    "import time\n",
    "import pandas as pd\n",
    "from jsonpath import jsonpath\n",
    "import glob\n"
   ]
  },
  {
   "cell_type": "code",
   "execution_count": 51,
   "metadata": {},
   "outputs": [],
   "source": [
    "\n",
    "# Initialize a dictionary to store the data\n",
    "data = {\n",
    "    \"Questions\": [],\n",
    "    \"Answers\": [],\n",
    "}\n",
    "\n",
    "# Function to process an XML file\n",
    "def processXmlFile(completePath):\n",
    "    # Open the XML file\n",
    "    with open(completePath) as f:\n",
    "        # Read the contents of the file\n",
    "        xmlstring = f.read()\n",
    "\n",
    "        try:\n",
    "            # Parse the XML string into a dictionary using xmltodict library\n",
    "            dataDict = xmltodict.parse(xmlstring, xml_attribs=False)\n",
    "            \n",
    "            # Extract the QAPair and Focus information from the dictionary\n",
    "            listOfQA = json.loads(json.dumps(jsonpath(dataDict, '$..' + \"QAPair\")[0]))\n",
    "        except Exception as e:\n",
    "            # Handle exceptions, such as empty QAPair or Focus\n",
    "            return\n",
    "\n",
    "        # Check if there is only a single QA pair, and convert it to a list if needed\n",
    "        if isinstance(listOfQA, dict):\n",
    "            listOfQA = [listOfQA]\n",
    "        \n",
    "        # Process each QA pair\n",
    "        for qaPair in listOfQA:\n",
    "            try:\n",
    "                # Clean up the answer text\n",
    "                x = re.sub(' +', ' ', qaPair['Answer'])\n",
    "                x = re.sub('Key Points', \"\", x)\n",
    "                x = x.replace(\"\\n\", \"\").replace(\"-\", \"\")\n",
    "                \n",
    "                # Append the processed data to the data dictionary\n",
    "                data['Answers'].append(x)\n",
    "                data['Questions'].append(qaPair['Question'])\n",
    "            except:\n",
    "                # Handle any exceptions that occur during processing\n",
    "                return"
   ]
  },
  {
   "cell_type": "code",
   "execution_count": 52,
   "metadata": {},
   "outputs": [
    {
     "name": "stdout",
     "output_type": "stream",
     "text": [
      "12_MPlusHerbsSupplements_QA\n",
      "8_NHLBI_QA_XML\n",
      "Processing folder: 8_NHLBI_QA_XML\n",
      "Took 0.35936927795410156\n",
      "9_CDC_QA\n",
      "Processing folder: 9_CDC_QA\n",
      "Took 0.09395003318786621\n",
      "7_SeniorHealth_QA\n",
      "Processing folder: 7_SeniorHealth_QA\n",
      "Took 0.1974344253540039\n",
      "2_GARD_QA\n",
      "Processing folder: 2_GARD_QA\n",
      "Took 5.483072280883789\n",
      "1_CancerGov_QA\n",
      "Processing folder: 1_CancerGov_QA\n",
      "Took 0.3397035598754883\n",
      "11_MPlusDrugs_QA\n",
      "4_MPlus_Health_Topics_QA\n",
      "Processing folder: 4_MPlus_Health_Topics_QA\n",
      "Took 0.6619377136230469\n",
      "6_NINDS_QA\n",
      "Processing folder: 6_NINDS_QA\n",
      "Took 0.2737085819244385\n",
      "5_NIDDK_QA\n",
      "Processing folder: 5_NIDDK_QA\n",
      "Took 0.34223008155822754\n",
      "10_MPlus_ADAM_QA\n",
      "QA-TestSet-LiveQA-Med-Qrels-2479-Answers.zip\n",
      "readme.txt\n",
      "3_GHR_QA\n",
      "Processing folder: 3_GHR_QA\n",
      "Took 1.517181634902954\n"
     ]
    }
   ],
   "source": [
    "# List of folders with empty answers\n",
    "foldersWithEmptyAnswers = [\n",
    "    \"10_MPlus_ADAM_QA\",\n",
    "    \"11_MPlusDrugs_QA\",\n",
    "    \"12_MPlusHerbsSupplements_QA\",\n",
    "    \"readme.txt\",  # As it does not contain any QAs\n",
    "    \"QA-TestSet-LiveQA-Med-Qrels-2479-Answers.zip\",  # Will use it later,\n",
    "    \"ProcessedData.csv\"\n",
    "]\n",
    "\n",
    "# Base path for the folders\n",
    "BASE_PATH = \"MedQuAD\"\n",
    "\n",
    "# Iterate over the folders in the base path\n",
    "for folder in os.listdir(BASE_PATH):\n",
    "    print(folder)\n",
    "    # Check if the folder is in the list of folders with empty answers\n",
    "    if folder in foldersWithEmptyAnswers:\n",
    "        # If the folder is in the list, skip it and continue with the next folder\n",
    "        continue\n",
    "    else:\n",
    "        # If the folder is not in the list, process it\n",
    "        print(\"Processing folder:\", folder)\n",
    "        start = time.time()\n",
    "\n",
    "        # Iterate over the XML files in the current folder\n",
    "        for xmlFileName in os.listdir(os.path.join(BASE_PATH, folder)):\n",
    "            completePath = os.path.join(BASE_PATH, folder, xmlFileName)\n",
    "            \n",
    "            # Process the XML file\n",
    "            processXmlFile(completePath)\n",
    "\n",
    "        print(\"Took\", time.time() - start)\n"
   ]
  },
  {
   "cell_type": "code",
   "execution_count": 53,
   "metadata": {},
   "outputs": [
    {
     "data": {
      "text/html": [
       "<div>\n",
       "<style scoped>\n",
       "    .dataframe tbody tr th:only-of-type {\n",
       "        vertical-align: middle;\n",
       "    }\n",
       "\n",
       "    .dataframe tbody tr th {\n",
       "        vertical-align: top;\n",
       "    }\n",
       "\n",
       "    .dataframe thead th {\n",
       "        text-align: right;\n",
       "    }\n",
       "</style>\n",
       "<table border=\"1\" class=\"dataframe\">\n",
       "  <thead>\n",
       "    <tr style=\"text-align: right;\">\n",
       "      <th></th>\n",
       "      <th>Questions</th>\n",
       "      <th>Answers</th>\n",
       "    </tr>\n",
       "  </thead>\n",
       "  <tbody>\n",
       "    <tr>\n",
       "      <th>0</th>\n",
       "      <td>What is (are) Hypersensitivity Pneumonitis ?</td>\n",
       "      <td>Hypersensitivity pneumonitis (noomoNItis), or ...</td>\n",
       "    </tr>\n",
       "    <tr>\n",
       "      <th>1</th>\n",
       "      <td>What causes Hypersensitivity Pneumonitis ?</td>\n",
       "      <td>Repeatedly breathing in foreign substances can...</td>\n",
       "    </tr>\n",
       "    <tr>\n",
       "      <th>2</th>\n",
       "      <td>Who is at risk for Hypersensitivity Pneumoniti...</td>\n",
       "      <td>People who repeatedly breathe in foreign subst...</td>\n",
       "    </tr>\n",
       "    <tr>\n",
       "      <th>3</th>\n",
       "      <td>What are the symptoms of Hypersensitivity Pneu...</td>\n",
       "      <td>Signs and symptoms of hypersensitivity pneumon...</td>\n",
       "    </tr>\n",
       "    <tr>\n",
       "      <th>4</th>\n",
       "      <td>How to diagnose Hypersensitivity Pneumonitis ?</td>\n",
       "      <td>To diagnose hypersensitivity pneumonitis (HP),...</td>\n",
       "    </tr>\n",
       "  </tbody>\n",
       "</table>\n",
       "</div>"
      ],
      "text/plain": [
       "                                           Questions  \\\n",
       "0       What is (are) Hypersensitivity Pneumonitis ?   \n",
       "1         What causes Hypersensitivity Pneumonitis ?   \n",
       "2  Who is at risk for Hypersensitivity Pneumoniti...   \n",
       "3  What are the symptoms of Hypersensitivity Pneu...   \n",
       "4     How to diagnose Hypersensitivity Pneumonitis ?   \n",
       "\n",
       "                                             Answers  \n",
       "0  Hypersensitivity pneumonitis (noomoNItis), or ...  \n",
       "1  Repeatedly breathing in foreign substances can...  \n",
       "2  People who repeatedly breathe in foreign subst...  \n",
       "3  Signs and symptoms of hypersensitivity pneumon...  \n",
       "4  To diagnose hypersensitivity pneumonitis (HP),...  "
      ]
     },
     "execution_count": 53,
     "metadata": {},
     "output_type": "execute_result"
    }
   ],
   "source": [
    "df_medquad = pd.DataFrame(data)\n",
    "df_medquad.head()"
   ]
  },
  {
   "cell_type": "code",
   "execution_count": 54,
   "metadata": {},
   "outputs": [],
   "source": [
    "file_pattern = 'medical-question-answer-data/*.json'\n",
    "\n",
    "# Create empty lists to store the questions and answers\n",
    "questions = []\n",
    "answers = []\n",
    "\n",
    "# Iterate over the JSON files\n",
    "for file_path in glob.glob(file_pattern):\n",
    "    with open(file_path, 'r') as json_file:\n",
    "        data = json.load(json_file)\n",
    "    \n",
    "    for item in data:\n",
    "        question = item['question']\n",
    "        answer = item['answer']\n",
    "        \n",
    "        questions.append(question)\n",
    "        answers.append(answer)\n",
    "\n",
    "# Create a DataFrame using the lists of questions and answers\n",
    "df_iclinic = pd.DataFrame({'Questions': questions, 'Answers': answers})"
   ]
  },
  {
   "cell_type": "code",
   "execution_count": 55,
   "metadata": {},
   "outputs": [
    {
     "data": {
      "text/html": [
       "<div>\n",
       "<style scoped>\n",
       "    .dataframe tbody tr th:only-of-type {\n",
       "        vertical-align: middle;\n",
       "    }\n",
       "\n",
       "    .dataframe tbody tr th {\n",
       "        vertical-align: top;\n",
       "    }\n",
       "\n",
       "    .dataframe thead th {\n",
       "        text-align: right;\n",
       "    }\n",
       "</style>\n",
       "<table border=\"1\" class=\"dataframe\">\n",
       "  <thead>\n",
       "    <tr style=\"text-align: right;\">\n",
       "      <th></th>\n",
       "      <th>Questions</th>\n",
       "      <th>Answers</th>\n",
       "    </tr>\n",
       "  </thead>\n",
       "  <tbody>\n",
       "    <tr>\n",
       "      <th>0</th>\n",
       "      <td>my 5 1/2-year-old son displays adhd symptoms f...</td>\n",
       "      <td>adhd and bipolar mood disorder (bmd) can coexi...</td>\n",
       "    </tr>\n",
       "    <tr>\n",
       "      <th>1</th>\n",
       "      <td>my son has add and mild autism. he has been su...</td>\n",
       "      <td>stimulants in general tend to decrease appetit...</td>\n",
       "    </tr>\n",
       "    <tr>\n",
       "      <th>2</th>\n",
       "      <td>my son is 13 and is depressed. he has been tak...</td>\n",
       "      <td>while any of the stimulant medications can inc...</td>\n",
       "    </tr>\n",
       "    <tr>\n",
       "      <th>3</th>\n",
       "      <td>my 17-year-old has stopped taking concerta aft...</td>\n",
       "      <td>seventy percent of teens diagnosed when they a...</td>\n",
       "    </tr>\n",
       "    <tr>\n",
       "      <th>4</th>\n",
       "      <td>i've been taking respa-ar for allergies. i can...</td>\n",
       "      <td>try claritin-d which is located behind the pha...</td>\n",
       "    </tr>\n",
       "  </tbody>\n",
       "</table>\n",
       "</div>"
      ],
      "text/plain": [
       "                                           Questions  \\\n",
       "0  my 5 1/2-year-old son displays adhd symptoms f...   \n",
       "1  my son has add and mild autism. he has been su...   \n",
       "2  my son is 13 and is depressed. he has been tak...   \n",
       "3  my 17-year-old has stopped taking concerta aft...   \n",
       "4  i've been taking respa-ar for allergies. i can...   \n",
       "\n",
       "                                             Answers  \n",
       "0  adhd and bipolar mood disorder (bmd) can coexi...  \n",
       "1  stimulants in general tend to decrease appetit...  \n",
       "2  while any of the stimulant medications can inc...  \n",
       "3  seventy percent of teens diagnosed when they a...  \n",
       "4  try claritin-d which is located behind the pha...  "
      ]
     },
     "execution_count": 55,
     "metadata": {},
     "output_type": "execute_result"
    }
   ],
   "source": [
    "df_iclinic.head()"
   ]
  },
  {
   "cell_type": "code",
   "execution_count": 56,
   "metadata": {},
   "outputs": [
    {
     "data": {
      "text/plain": [
       "((29752, 2), (16402, 2))"
      ]
     },
     "execution_count": 56,
     "metadata": {},
     "output_type": "execute_result"
    }
   ],
   "source": [
    "df_iclinic.shape, df_medquad.shape"
   ]
  },
  {
   "cell_type": "code",
   "execution_count": 57,
   "metadata": {},
   "outputs": [],
   "source": [
    "final_medical_dataset = pd.concat([df_iclinic, df_medquad], axis=0, join='outer', ignore_index=True)\n"
   ]
  },
  {
   "cell_type": "code",
   "execution_count": 58,
   "metadata": {},
   "outputs": [
    {
     "data": {
      "text/plain": [
       "(46154, 2)"
      ]
     },
     "execution_count": 58,
     "metadata": {},
     "output_type": "execute_result"
    }
   ],
   "source": [
    "final_medical_dataset.shape"
   ]
  },
  {
   "cell_type": "code",
   "execution_count": 59,
   "metadata": {},
   "outputs": [
    {
     "data": {
      "text/html": [
       "<div>\n",
       "<style scoped>\n",
       "    .dataframe tbody tr th:only-of-type {\n",
       "        vertical-align: middle;\n",
       "    }\n",
       "\n",
       "    .dataframe tbody tr th {\n",
       "        vertical-align: top;\n",
       "    }\n",
       "\n",
       "    .dataframe thead th {\n",
       "        text-align: right;\n",
       "    }\n",
       "</style>\n",
       "<table border=\"1\" class=\"dataframe\">\n",
       "  <thead>\n",
       "    <tr style=\"text-align: right;\">\n",
       "      <th></th>\n",
       "      <th>Questions</th>\n",
       "      <th>Answers</th>\n",
       "    </tr>\n",
       "  </thead>\n",
       "  <tbody>\n",
       "    <tr>\n",
       "      <th>0</th>\n",
       "      <td>my 5 1/2-year-old son displays adhd symptoms f...</td>\n",
       "      <td>adhd and bipolar mood disorder (bmd) can coexi...</td>\n",
       "    </tr>\n",
       "    <tr>\n",
       "      <th>1</th>\n",
       "      <td>my son has add and mild autism. he has been su...</td>\n",
       "      <td>stimulants in general tend to decrease appetit...</td>\n",
       "    </tr>\n",
       "    <tr>\n",
       "      <th>2</th>\n",
       "      <td>my son is 13 and is depressed. he has been tak...</td>\n",
       "      <td>while any of the stimulant medications can inc...</td>\n",
       "    </tr>\n",
       "    <tr>\n",
       "      <th>3</th>\n",
       "      <td>my 17-year-old has stopped taking concerta aft...</td>\n",
       "      <td>seventy percent of teens diagnosed when they a...</td>\n",
       "    </tr>\n",
       "    <tr>\n",
       "      <th>4</th>\n",
       "      <td>i've been taking respa-ar for allergies. i can...</td>\n",
       "      <td>try claritin-d which is located behind the pha...</td>\n",
       "    </tr>\n",
       "  </tbody>\n",
       "</table>\n",
       "</div>"
      ],
      "text/plain": [
       "                                           Questions  \\\n",
       "0  my 5 1/2-year-old son displays adhd symptoms f...   \n",
       "1  my son has add and mild autism. he has been su...   \n",
       "2  my son is 13 and is depressed. he has been tak...   \n",
       "3  my 17-year-old has stopped taking concerta aft...   \n",
       "4  i've been taking respa-ar for allergies. i can...   \n",
       "\n",
       "                                             Answers  \n",
       "0  adhd and bipolar mood disorder (bmd) can coexi...  \n",
       "1  stimulants in general tend to decrease appetit...  \n",
       "2  while any of the stimulant medications can inc...  \n",
       "3  seventy percent of teens diagnosed when they a...  \n",
       "4  try claritin-d which is located behind the pha...  "
      ]
     },
     "execution_count": 59,
     "metadata": {},
     "output_type": "execute_result"
    }
   ],
   "source": [
    "final_medical_dataset.head()"
   ]
  },
  {
   "cell_type": "code",
   "execution_count": 60,
   "metadata": {},
   "outputs": [],
   "source": [
    "\n",
    "final_medical_dataset.reset_index(drop=True, inplace=True)\n",
    "\n",
    "# Save the DataFrame as a CSV file\n",
    "final_medical_dataset.to_csv('final_medical_dataset.csv')"
   ]
  },
  {
   "cell_type": "code",
   "execution_count": 61,
   "metadata": {},
   "outputs": [
    {
     "name": "stderr",
     "output_type": "stream",
     "text": [
      "[nltk_data] Downloading package punkt to /home/tesla/nltk_data...\n",
      "[nltk_data]   Package punkt is already up-to-date!\n"
     ]
    },
    {
     "name": "stdout",
     "output_type": "stream",
     "text": [
      "Maximum Word Count: 4705\n",
      "Minimum Word Count: 1\n",
      "Mean Word Count: 143.6153096156346\n",
      "Median Word Count: 86.0\n"
     ]
    }
   ],
   "source": [
    "import pandas as pd\n",
    "import nltk\n",
    "from nltk.tokenize import word_tokenize\n",
    "\n",
    "# Download the required resources for tokenization\n",
    "nltk.download('punkt')\n",
    "\n",
    "# Assuming you have already loaded the DataFrame from CSV or other sources\n",
    "\n",
    "# Function to count the number of words/tokens in a text\n",
    "def count_words(text):\n",
    "    tokens = word_tokenize(text)  # Tokenize the text into words\n",
    "    return len(tokens)\n",
    "\n",
    "# Apply the count_words function to each answer in the DataFrame\n",
    "final_medical_dataset['Word Count'] = final_medical_dataset['Answers'].apply(lambda x: count_words(str(x)))\n",
    "\n",
    "# Calculate the maximum, minimum, mean, and median word counts\n",
    "max_word_count = final_medical_dataset['Word Count'].max()\n",
    "min_word_count = final_medical_dataset['Word Count'].min()\n",
    "mean_word_count = final_medical_dataset['Word Count'].mean()\n",
    "median_word_count = final_medical_dataset['Word Count'].median()\n",
    "\n",
    "# Print the results\n",
    "print(\"Maximum Word Count:\", max_word_count)\n",
    "print(\"Minimum Word Count:\", min_word_count)\n",
    "print(\"Mean Word Count:\", mean_word_count)\n",
    "print(\"Median Word Count:\", median_word_count)"
   ]
  },
  {
   "cell_type": "code",
   "execution_count": null,
   "metadata": {},
   "outputs": [],
   "source": []
  }
 ],
 "metadata": {
  "kernelspec": {
   "display_name": "chatnot_env",
   "language": "python",
   "name": "python3"
  },
  "language_info": {
   "codemirror_mode": {
    "name": "ipython",
    "version": 3
   },
   "file_extension": ".py",
   "mimetype": "text/x-python",
   "name": "python",
   "nbconvert_exporter": "python",
   "pygments_lexer": "ipython3",
   "version": "3.10.12"
  }
 },
 "nbformat": 4,
 "nbformat_minor": 2
}
